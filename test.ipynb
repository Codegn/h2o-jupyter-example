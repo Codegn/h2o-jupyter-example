{
 "cells": [
  {
   "cell_type": "code",
   "execution_count": 1,
   "metadata": {},
   "outputs": [],
   "source": [
    "import h2o"
   ]
  },
  {
   "cell_type": "code",
   "execution_count": 2,
   "metadata": {},
   "outputs": [
    {
     "data": {
      "text/plain": [
       "'/home/jovyan/work'"
      ]
     },
     "execution_count": 2,
     "metadata": {},
     "output_type": "execute_result"
    }
   ],
   "source": [
    "import os\n",
    "os.getcwd()"
   ]
  },
  {
   "cell_type": "code",
   "execution_count": 3,
   "metadata": {
    "scrolled": true
   },
   "outputs": [
    {
     "name": "stdout",
     "output_type": "stream",
     "text": [
      "Checking whether there is an H2O instance running at http://h2o-service:54321 . connected.\n"
     ]
    },
    {
     "data": {
      "text/html": [
       "<div style=\"overflow:auto\"><table style=\"width:50%\"><tr><td>H2O cluster uptime:</td>\n",
       "<td>27 secs</td></tr>\n",
       "<tr><td>H2O cluster timezone:</td>\n",
       "<td>Etc/UTC</td></tr>\n",
       "<tr><td>H2O data parsing timezone:</td>\n",
       "<td>UTC</td></tr>\n",
       "<tr><td>H2O cluster version:</td>\n",
       "<td>3.26.0.1</td></tr>\n",
       "<tr><td>H2O cluster version age:</td>\n",
       "<td>2 days </td></tr>\n",
       "<tr><td>H2O cluster name:</td>\n",
       "<td>root</td></tr>\n",
       "<tr><td>H2O cluster total nodes:</td>\n",
       "<td>1</td></tr>\n",
       "<tr><td>H2O cluster free memory:</td>\n",
       "<td>7.111 Gb</td></tr>\n",
       "<tr><td>H2O cluster total cores:</td>\n",
       "<td>8</td></tr>\n",
       "<tr><td>H2O cluster allowed cores:</td>\n",
       "<td>8</td></tr>\n",
       "<tr><td>H2O cluster status:</td>\n",
       "<td>accepting new members, healthy</td></tr>\n",
       "<tr><td>H2O connection url:</td>\n",
       "<td>http://h2o-service:54321</td></tr>\n",
       "<tr><td>H2O connection proxy:</td>\n",
       "<td>None</td></tr>\n",
       "<tr><td>H2O internal security:</td>\n",
       "<td>False</td></tr>\n",
       "<tr><td>H2O API Extensions:</td>\n",
       "<td>Amazon S3, XGBoost, Algos, AutoML, Core V3, Core V4</td></tr>\n",
       "<tr><td>Python version:</td>\n",
       "<td>3.7.3 final</td></tr></table></div>"
      ],
      "text/plain": [
       "--------------------------  ---------------------------------------------------\n",
       "H2O cluster uptime:         27 secs\n",
       "H2O cluster timezone:       Etc/UTC\n",
       "H2O data parsing timezone:  UTC\n",
       "H2O cluster version:        3.26.0.1\n",
       "H2O cluster version age:    2 days\n",
       "H2O cluster name:           root\n",
       "H2O cluster total nodes:    1\n",
       "H2O cluster free memory:    7.111 Gb\n",
       "H2O cluster total cores:    8\n",
       "H2O cluster allowed cores:  8\n",
       "H2O cluster status:         accepting new members, healthy\n",
       "H2O connection url:         http://h2o-service:54321\n",
       "H2O connection proxy:\n",
       "H2O internal security:      False\n",
       "H2O API Extensions:         Amazon S3, XGBoost, Algos, AutoML, Core V3, Core V4\n",
       "Python version:             3.7.3 final\n",
       "--------------------------  ---------------------------------------------------"
      ]
     },
     "metadata": {},
     "output_type": "display_data"
    }
   ],
   "source": [
    "h2o.init(ip='h2o-service')"
   ]
  },
  {
   "cell_type": "code",
   "execution_count": 7,
   "metadata": {},
   "outputs": [
    {
     "name": "stdout",
     "output_type": "stream",
     "text": [
      "Parse progress: |█████████████████████████████████████████████████████████| 100%\n",
      "Parse progress: |█████████████████████████████████████████████████████████| 100%\n"
     ]
    }
   ],
   "source": [
    "from h2o.automl import H2OAutoML\n",
    "# Import a sample binary outcome train/test set into H2O\n",
    "train = h2o.import_file(\"https://s3.amazonaws.com/erin-data/higgs/higgs_train_10k.csv\")\n",
    "test = h2o.import_file(\"https://s3.amazonaws.com/erin-data/higgs/higgs_test_5k.csv\")\n",
    "# Identify the response and set of predictors\n",
    "y = \"response\"\n",
    "x = list(train.columns)  #if x is defined as all columns except the response, then x is not required\n",
    "x.remove(y)\n",
    "# For binary classification, response should be a factor\n",
    "train[y] = train[y].asfactor()\n",
    "test[y] = test[y].asfactor()"
   ]
  },
  {
   "cell_type": "code",
   "execution_count": 11,
   "metadata": {},
   "outputs": [
    {
     "name": "stdout",
     "output_type": "stream",
     "text": [
      "AutoML progress: |████████████████████████████████████████████████████████| 100%\n"
     ]
    }
   ],
   "source": [
    "# Run AutoML for 30 seconds\n",
    "aml = H2OAutoML(max_runtime_secs = 20*60)\n",
    "aml.train(x = x, y = y, training_frame = train)"
   ]
  },
  {
   "cell_type": "code",
   "execution_count": 12,
   "metadata": {},
   "outputs": [
    {
     "data": {
      "text/html": [
       "<table>\n",
       "<thead>\n",
       "<tr><th>model_id                                           </th><th style=\"text-align: right;\">     auc</th><th style=\"text-align: right;\">  logloss</th><th style=\"text-align: right;\">  mean_per_class_error</th><th style=\"text-align: right;\">    rmse</th><th style=\"text-align: right;\">     mse</th></tr>\n",
       "</thead>\n",
       "<tbody>\n",
       "<tr><td>StackedEnsemble_BestOfFamily_AutoML_20190718_144534</td><td style=\"text-align: right;\">0.787747</td><td style=\"text-align: right;\"> 0.554425</td><td style=\"text-align: right;\">              0.32943 </td><td style=\"text-align: right;\">0.43346 </td><td style=\"text-align: right;\">0.187888</td></tr>\n",
       "<tr><td>XGBoost_grid_1_AutoML_20190718_144534_model_6      </td><td style=\"text-align: right;\">0.786006</td><td style=\"text-align: right;\"> 0.554368</td><td style=\"text-align: right;\">              0.3342  </td><td style=\"text-align: right;\">0.433653</td><td style=\"text-align: right;\">0.188055</td></tr>\n",
       "<tr><td>StackedEnsemble_AllModels_AutoML_20190718_143928   </td><td style=\"text-align: right;\">0.785222</td><td style=\"text-align: right;\"> 0.557378</td><td style=\"text-align: right;\">              0.339847</td><td style=\"text-align: right;\">0.434925</td><td style=\"text-align: right;\">0.18916 </td></tr>\n",
       "<tr><td>XGBoost_3_AutoML_20190718_144534                   </td><td style=\"text-align: right;\">0.784789</td><td style=\"text-align: right;\"> 0.557521</td><td style=\"text-align: right;\">              0.326983</td><td style=\"text-align: right;\">0.434797</td><td style=\"text-align: right;\">0.189048</td></tr>\n",
       "<tr><td>XGBoost_2_AutoML_20190718_144534                   </td><td style=\"text-align: right;\">0.784486</td><td style=\"text-align: right;\"> 0.55508 </td><td style=\"text-align: right;\">              0.330655</td><td style=\"text-align: right;\">0.434253</td><td style=\"text-align: right;\">0.188576</td></tr>\n",
       "<tr><td>XGBoost_grid_1_AutoML_20190718_144534_model_8      </td><td style=\"text-align: right;\">0.783486</td><td style=\"text-align: right;\"> 0.558377</td><td style=\"text-align: right;\">              0.321395</td><td style=\"text-align: right;\">0.435329</td><td style=\"text-align: right;\">0.189511</td></tr>\n",
       "<tr><td>XGBoost_grid_1_AutoML_20190718_144534_model_2      </td><td style=\"text-align: right;\">0.78346 </td><td style=\"text-align: right;\"> 0.555465</td><td style=\"text-align: right;\">              0.324938</td><td style=\"text-align: right;\">0.434858</td><td style=\"text-align: right;\">0.189101</td></tr>\n",
       "<tr><td>XGBoost_1_AutoML_20190718_144534                   </td><td style=\"text-align: right;\">0.783373</td><td style=\"text-align: right;\"> 0.556405</td><td style=\"text-align: right;\">              0.324015</td><td style=\"text-align: right;\">0.434767</td><td style=\"text-align: right;\">0.189023</td></tr>\n",
       "<tr><td>XGBoost_grid_1_AutoML_20190718_144534_model_7      </td><td style=\"text-align: right;\">0.783342</td><td style=\"text-align: right;\"> 0.558329</td><td style=\"text-align: right;\">              0.329663</td><td style=\"text-align: right;\">0.435327</td><td style=\"text-align: right;\">0.189509</td></tr>\n",
       "<tr><td>XGBoost_1_AutoML_20190718_143928                   </td><td style=\"text-align: right;\">0.78319 </td><td style=\"text-align: right;\"> 0.556179</td><td style=\"text-align: right;\">              0.350288</td><td style=\"text-align: right;\">0.434876</td><td style=\"text-align: right;\">0.189117</td></tr>\n",
       "</tbody>\n",
       "</table>"
      ]
     },
     "metadata": {},
     "output_type": "display_data"
    },
    {
     "data": {
      "text/plain": []
     },
     "execution_count": 12,
     "metadata": {},
     "output_type": "execute_result"
    }
   ],
   "source": [
    "# Print Leaderboard (ranked by xval metrics)\n",
    "aml.leaderboard"
   ]
  },
  {
   "cell_type": "code",
   "execution_count": 13,
   "metadata": {},
   "outputs": [
    {
     "data": {
      "text/plain": [
       "0.790224147431334"
      ]
     },
     "execution_count": 13,
     "metadata": {},
     "output_type": "execute_result"
    }
   ],
   "source": [
    "# (Optional) Evaluate performance on a test set\n",
    "perf = aml.leader.model_performance(test)\n",
    "perf.auc()"
   ]
  }
 ],
 "metadata": {
  "kernelspec": {
   "display_name": "Python 3",
   "language": "python",
   "name": "python3"
  },
  "language_info": {
   "codemirror_mode": {
    "name": "ipython",
    "version": 3
   },
   "file_extension": ".py",
   "mimetype": "text/x-python",
   "name": "python",
   "nbconvert_exporter": "python",
   "pygments_lexer": "ipython3",
   "version": "3.7.3"
  }
 },
 "nbformat": 4,
 "nbformat_minor": 2
}
